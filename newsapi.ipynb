{
 "cells": [
  {
   "cell_type": "code",
   "execution_count": null,
   "id": "71ad6b46",
   "metadata": {},
   "outputs": [],
   "source": [
    "import requests\n",
    "import pandas as pd\n",
    "from eventregistry import *\n",
    "\n",
    "er = EventRegistry(apiKey = 'b1050fed-40e1-4757-9018-149e3e291557')"
   ]
  },
  {
   "cell_type": "markdown",
   "id": "975ab5e7",
   "metadata": {},
   "source": [
    "# Obtain Articles"
   ]
  },
  {
   "cell_type": "code",
   "execution_count": null,
   "id": "36435310",
   "metadata": {},
   "outputs": [],
   "source": [
    "qStr = \"\"\"\n",
    "{\n",
    "    \"$query\": {\n",
    "        \"$and\": [\n",
    "            {\n",
    "                \"conceptUri\": \"http://en.wikipedia.org/wiki/Ethereum\"\n",
    "            },\n",
    "            {\n",
    "                \"lang\": \"eng\"\n",
    "            }\n",
    "        ]\n",
    "    },\n",
    "    \"$filter\": {\n",
    "        \"forceMaxDataTimeWindow\": \"31\",\n",
    "        \"dataType\": [\n",
    "            \"news\"\n",
    "        ]\n",
    "    }\n",
    "}\n",
    "\"\"\"\n",
    "q = QueryArticlesIter.initWithComplexQuery(qStr)\n",
    "\n",
    "for article in q.execQuery(er, maxItems=10):\n",
    "    print(article)"
   ]
  },
  {
   "cell_type": "markdown",
   "id": "95fe0abe",
   "metadata": {},
   "source": [
    "# Obtain Topic Page"
   ]
  },
  {
   "cell_type": "code",
   "execution_count": null,
   "id": "26f023a0",
   "metadata": {},
   "outputs": [],
   "source": [
    "requests.get('https://newsapi.ai/api/v1/article/getArticlesForTopicPage?uri=2aa115a6-d949-4cf9-a9cc-b06a7546b663&dataType=news&resultType=articles&articlesSortBy=date&articleBodyLen=-1&apiKey=b1050fed-40e1-4757-9018-149e3e291557')"
   ]
  },
  {
   "cell_type": "markdown",
   "id": "cd0a3de5",
   "metadata": {},
   "source": [
    "# Article Details"
   ]
  },
  {
   "cell_type": "code",
   "execution_count": null,
   "id": "0b8acb8e",
   "metadata": {},
   "outputs": [],
   "source": [
    "requests.get('https://newsapi.ai/api/v1/article/getArticle?articleUri=6825914210&resultType=info&articleBodyLen=-1&apiKey=b1050fed-40e1-4757-9018-149e3e291557&callback=JSON_CALLBACK')"
   ]
  },
  {
   "cell_type": "markdown",
   "id": "08c79d39",
   "metadata": {},
   "source": [
    "# Obtain Events"
   ]
  },
  {
   "cell_type": "code",
   "execution_count": null,
   "id": "f9f6026e",
   "metadata": {},
   "outputs": [],
   "source": [
    "qStr = \"\"\"\n",
    "{\n",
    "    \"$query\": {\n",
    "        \"keyword\": \"thorchain\",\n",
    "        \"keywordLoc\": \"title\"\n",
    "    },\n",
    "    \"$filter\": {\n",
    "        \"forceMaxDataTimeWindow\": \"31\"\n",
    "    }\n",
    "}\n",
    "\"\"\"\n",
    "q = QueryEventsIter.initWithComplexQuery(qStr)\n",
    "for event in q.execQuery(er, maxItems=10):\n",
    "    print(event)"
   ]
  },
  {
   "cell_type": "markdown",
   "id": "a08389d6",
   "metadata": {},
   "source": [
    "# Get Events for Input"
   ]
  },
  {
   "cell_type": "code",
   "execution_count": null,
   "id": "46321967",
   "metadata": {},
   "outputs": [],
   "source": [
    "requests.get('https://newsapi.ai/api/v1/getEventForText/getEventForText?lang=eng&text=Bitcoin%20is%20going%20to&topClustersCount=10&apiKey=b1050fed-40e1-4757-9018-149e3e291557&callback=JSON_CALLBACK')"
   ]
  }
 ],
 "metadata": {
  "kernelspec": {
   "display_name": "Python 3 (ipykernel)",
   "language": "python",
   "name": "python3"
  },
  "language_info": {
   "codemirror_mode": {
    "name": "ipython",
    "version": 3
   },
   "file_extension": ".py",
   "mimetype": "text/x-python",
   "name": "python",
   "nbconvert_exporter": "python",
   "pygments_lexer": "ipython3",
   "version": "3.8.8"
  }
 },
 "nbformat": 4,
 "nbformat_minor": 5
}
